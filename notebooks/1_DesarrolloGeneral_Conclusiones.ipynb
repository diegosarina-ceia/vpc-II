{
 "cells": [
  {
   "cell_type": "markdown",
   "metadata": {},
   "source": [
    "# Trabajo Final Visión por Computadora 2"
   ]
  },
  {
   "cell_type": "markdown",
   "metadata": {},
   "source": [
    "Integrantes:\n",
    "\n",
    "* Marco Joel Isidro\n",
    "* Diego Sarina\n",
    "\n",
    "Profesores:\n",
    "\n",
    "* Juan Ignacio Cavalieri\n",
    "* Juan Ignacio Cornet\n",
    "* Pakdaman Seyed\n"
   ]
  },
  {
   "cell_type": "markdown",
   "metadata": {},
   "source": [
    "## Descripción del problema a resolver"
   ]
  },
  {
   "cell_type": "markdown",
   "metadata": {},
   "source": [
    "En este proyecto, abordamos un problema de detección de objetos en imágenes médicas centrado en la identificación de diversas enfermedades dentales. El objetivo principal es automatizar el diagnóstico visual de condiciones dentales comunes como caries, necesidad de endodoncia, o dientes impactados, a partir de imágenes médicas.\n",
    "\n",
    "El interés por resolver este problema radica en la posibilidad de asistir a los profesionales de la odontología en el diagnóstico temprano y preciso, permitiendo la intervención adecuada antes de que las patologías avancen.\n",
    "\n",
    "Para este proyecto, se utilizó un dataset proporcionado por una competencia de Kaggle, lo cual facilitó el acceso a imágenes etiquetadas de radiografías dentales con varias clases de anomalías. La detección de estas condiciones fue tratada como un problema de detección de objetos, donde el modelo debe no solo identificar la presencia de una anomalía, sino también localizar su posición en la imagen."
   ]
  },
  {
   "cell_type": "markdown",
   "metadata": {},
   "source": [
    "## Descripción del datasets original del desafio"
   ]
  },
  {
   "cell_type": "markdown",
   "metadata": {},
   "source": [
    "## Primeros modelos investigados y resultados"
   ]
  },
  {
   "cell_type": "markdown",
   "metadata": {},
   "source": [
    "## Problematica encontrada y resolución"
   ]
  },
  {
   "cell_type": "markdown",
   "metadata": {},
   "source": [
    "## Modelos investigados y resultados principales"
   ]
  },
  {
   "cell_type": "markdown",
   "metadata": {},
   "source": [
    "## Conclusiones finales"
   ]
  }
 ],
 "metadata": {
  "language_info": {
   "name": "python"
  }
 },
 "nbformat": 4,
 "nbformat_minor": 2
}
